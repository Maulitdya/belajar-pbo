{
  "nbformat": 4,
  "nbformat_minor": 0,
  "metadata": {
    "colab": {
      "provenance": [],
      "include_colab_link": true
    },
    "kernelspec": {
      "name": "python3",
      "display_name": "Python 3"
    },
    "language_info": {
      "name": "python"
    }
  },
  "cells": [
    {
      "cell_type": "markdown",
      "metadata": {
        "id": "view-in-github",
        "colab_type": "text"
      },
      "source": [
        "<a href=\"https://colab.research.google.com/github/Maulitdya/belajar-pbo/blob/main/tugasenkapsulasi2.ipynb\" target=\"_parent\"><img src=\"https://colab.research.google.com/assets/colab-badge.svg\" alt=\"Open In Colab\"/></a>"
      ]
    },
    {
      "cell_type": "markdown",
      "source": [
        "Buatlah kelas RekeningBank dengan atribut berikut:\n",
        "\n",
        "*   nama_pemilik (private)\n",
        "*   saldo (private)\n",
        "\n",
        "Berikan metode berikut:\n",
        "\n",
        "*   __init__: Menginisialisasi saldo dan nama_pemilik.\n",
        "*   set_saldo: Mengubah nilai saldo.\n",
        "*   get_saldo: Mengembalikan nilai saldo.\n",
        "*   set_nama_pemilik: Mengubah nama pemilik.\n",
        "*   get_nama_pemilik: Mengembalikan nama pemilik.\n",
        "\n",
        "\n",
        "\n",
        "\n",
        "\n",
        "\n",
        "\n",
        "\n"
      ],
      "metadata": {
        "id": "PktiI90eS6Ee"
      }
    },
    {
      "cell_type": "code",
      "source": [
        "# Desain class\n",
        "class RekeningBank:\n",
        "  def __init__(self, nama_pemilik, saldo):\n",
        "    self.__saldo = saldo\n",
        "    self.__nama_pemilik = nama_pemilik\n",
        "\n",
        "  def set_saldo(self, saldo):\n",
        "    self.__saldo = saldo\n",
        "\n",
        "  def get_saldo(self):\n",
        "    return self.__saldo\n",
        "\n",
        "  def set_nama_pemilik(self, nama_pemilik):\n",
        "    self.__nama_pemilik = nama_pemilik\n",
        "\n",
        "  def get_nama_pemilik(self):\n",
        "    return self.__nama_pemilik\n",
        "  def setor(self, jumlah):\n",
        "    if jumlah > 0:\n",
        "      self.__saldo += jumlah\n",
        "      print(\"Setoran Berhasil --> Saldo sekarang:\", self.__saldo)\n",
        "\n",
        "    else:\n",
        "      print(\"Jumlah Setoran Harus Lebih Dari 0\")\n",
        "\n",
        "  def tarik(self, jumlah):\n",
        "    if jumlah > 0 and jumlah <= self.__saldo:\n",
        "      self.__saldo -= jumlah\n",
        "      print(\"Penarikan Berhasil --> Saldo Sekarang:\", self.__saldo)\n",
        "\n",
        "    else:\n",
        "      print(\"Jumlah Penarikan Tidak Valid Atau Saldo Tidak Mencukupi\")\n",
        "\n"
      ],
      "metadata": {
        "id": "Pyj-mkyciVfk"
      },
      "execution_count": null,
      "outputs": []
    },
    {
      "cell_type": "code",
      "source": [
        "#Program utama untuk mendemonstrasikan class RekeningBank\n",
        "#yang menunjukkan penggunaan semua fungsi yang ada\n",
        "\n",
        "\n",
        "rekening1 = RekeningBank(\"MAULITDYA\", 70000000)\n",
        "\n",
        "print(\"Nama Pemilik --> \", rekening1.get_nama_pemilik())\n",
        "print(\"Saldo --> \", rekening1.get_saldo())\n",
        "\n",
        "rekening1.set_nama_pemilik(\"MAULITDYA\")\n",
        "rekening1.set_saldo(550000000)\n",
        "\n",
        "print(\"=========================\")\n",
        "\n",
        "print(\"Nama Pemilik --> diubah \", rekening1.get_nama_pemilik())\n",
        "print(\"Saldo --> diubah: \", rekening1.get_saldo())\n",
        "\n",
        "\n"
      ],
      "metadata": {
        "id": "aOwy6rfdSga2",
        "colab": {
          "base_uri": "https://localhost:8080/"
        },
        "outputId": "8de0c853-da57-4682-cff3-68788885643f"
      },
      "execution_count": null,
      "outputs": [
        {
          "output_type": "stream",
          "name": "stdout",
          "text": [
            "Nama Pemilik -->  MAULITDYA\n",
            "Saldo -->  70000000\n",
            "=========================\n",
            "Nama Pemilik --> diubah  MAULITDYA\n",
            "Saldo --> diubah:  550000000\n"
          ]
        }
      ]
    },
    {
      "cell_type": "code",
      "source": [
        "#Demo Programnya\n",
        "\n",
        "\n",
        "rekening2 = RekeningBank(\"MAULITDYA\", 70000000)\n",
        "\n",
        "#Menampilkan Informasi Awal Rekening\n",
        "print(\"Informasi Awal Rekening:\")\n",
        "print(\"Nama Pemilik:\", rekening2.get_nama_pemilik())\n",
        "print(\"Saldo:\", rekening2.get_saldo())\n",
        "\n",
        "#Melakukan Setor Dan Penarikan\n",
        "rekening2.setor(2000)\n",
        "rekening2.tarik(3000)\n",
        "rekening2.tarik(550000000)  # Penarikan lebih dari saldo\n",
        "\n",
        "#Menampilkan Informasi Akhir Rekening\n",
        "print(\"Informasi Akhir Rekening --> :\")\n",
        "print(\"============================\")\n",
        "print(\"Nama Pemilik --> :\", rekening2.get_nama_pemilik())\n",
        "print(\"Saldo --> :\", rekening2.get_saldo())\n",
        "\n"
      ],
      "metadata": {
        "colab": {
          "base_uri": "https://localhost:8080/"
        },
        "id": "RIeXbwRjLesA",
        "outputId": "682cf884-c7f4-4f25-e4d6-682687b94dc5"
      },
      "execution_count": null,
      "outputs": [
        {
          "output_type": "stream",
          "name": "stdout",
          "text": [
            "Informasi Awal Rekening:\n",
            "Nama Pemilik: MAULITDYA\n",
            "Saldo: 70000000\n",
            "Setoran Berhasil --> Saldo sekarang: 70002000\n",
            "Penarikan Berhasil --> Saldo Sekarang: 69999000\n",
            "Jumlah Penarikan Tidak Valid Atau Saldo Tidak Mencukupi\n",
            "Informasi Akhir Rekening --> :\n",
            "============================\n",
            "Nama Pemilik --> : MAULITDYA\n",
            "Saldo --> : 69999000\n"
          ]
        }
      ]
    }
  ]
}