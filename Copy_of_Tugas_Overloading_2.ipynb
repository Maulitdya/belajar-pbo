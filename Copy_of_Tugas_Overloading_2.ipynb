{
  "nbformat": 4,
  "nbformat_minor": 0,
  "metadata": {
    "colab": {
      "provenance": [],
      "include_colab_link": true
    },
    "kernelspec": {
      "name": "python3",
      "display_name": "Python 3"
    },
    "language_info": {
      "name": "python"
    }
  },
  "cells": [
    {
      "cell_type": "markdown",
      "metadata": {
        "id": "view-in-github",
        "colab_type": "text"
      },
      "source": [
        "<a href=\"https://colab.research.google.com/github/Maulitdya/belajar-pbo/blob/main/Copy_of_Tugas_Overloading_2.ipynb\" target=\"_parent\"><img src=\"https://colab.research.google.com/assets/colab-badge.svg\" alt=\"Open In Colab\"/></a>"
      ]
    },
    {
      "cell_type": "code",
      "execution_count": null,
      "metadata": {
        "id": "5zCytCeM1uD4"
      },
      "outputs": [],
      "source": [
        "#class Nama\n",
        "class Nama:\n",
        "#Buat fungsi yang digunakan untuk mengabungkan nama dengan ketentuan nama depan, nama tengah, nama akhir, dan seterusnya dianggap 1 (satu) parameter\n",
        "  def nama_lengkap(self, *args):\n",
        "        jumlah = \"\"\n",
        "        for angka in args:\n",
        "            jumlah += angka\n",
        "        print(jumlah)"
      ]
    },
    {
      "cell_type": "code",
      "source": [
        "#Buat main program\n",
        "nm = Nama ()\n",
        "#Panggil fungsi untuk membuat nama lengkap 4 nama teman kalian\n",
        "nm.nama_lengkap(\"devi\", \"mariani\")\n",
        "nm.nama_lengkap(\"fidya\", \"aulia\", \"sari\")\n",
        "nm.nama_lengkap(\"maulitdya\", \"hidayatul\", \"ilmiah\")"
      ],
      "metadata": {
        "id": "liQBcJWZ12MN",
        "outputId": "6a2249f1-eaaa-4ecb-bac8-69f6607e30e4",
        "colab": {
          "base_uri": "https://localhost:8080/"
        }
      },
      "execution_count": null,
      "outputs": [
        {
          "output_type": "stream",
          "name": "stdout",
          "text": [
            "devimariani\n",
            "fidyaauliasari\n",
            "maulitdyahidayatulilmiah\n"
          ]
        }
      ]
    },
    {
      "cell_type": "code",
      "source": [
        "Tulisakan kesimpulan dari materi Overloading menurut pemahaman anda!"
      ],
      "metadata": {
        "id": "xwFmppIG3JGE"
      },
      "execution_count": null,
      "outputs": []
    }
  ]
}